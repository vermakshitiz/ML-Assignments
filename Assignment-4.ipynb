{
 "cells": [
  {
   "cell_type": "markdown",
   "metadata": {},
   "source": [
    "\n",
    " 1.1 Write a Python Program(with class concepts) to find the area of the triangle using the below formula. \n",
    " \n",
    " area = (s*(s-a)*(s-b)*(s-c)) ** 0.5 \n",
    " \n",
    " Function to take the length of the sides of triangle from user should be defined in the parent class and function\n",
    "    tocalculate the area should be defined in subclass. \n"
   ]
  },
  {
   "cell_type": "code",
   "execution_count": 8,
   "metadata": {},
   "outputs": [
    {
     "name": "stdout",
     "output_type": "stream",
     "text": [
      "enter the three sides of trangle 12 23 32\n",
      "[12, 23, 32]\n",
      "s is 33.50\n",
      " area is 106.51\n",
      "106.50792224055448\n"
     ]
    }
   ],
   "source": [
    "class triangle:\n",
    "    def __init__(self):\n",
    "        lst=list(map(int,input(\"enter the three sides of trangle \").split()))\n",
    "        print(lst)\n",
    "        self.a=lst[0]\n",
    "        self.b=lst[1]\n",
    "        self.c=lst[2]\n",
    "        \n",
    "class area(triangle):\n",
    "    def __init__(self,*args):\n",
    "        super(area,self).__init__(*args)\n",
    "    def getarea(self):\n",
    "        s=(self.a+self.b+self.c)/2\n",
    "        print(\"s is %0.2f\" %s)\n",
    "        area=(s*(s-self.a)*(s-self.b)*(s-self.c))**0.5\n",
    "        print (\" area is %0.2f\"% area)\n",
    "        return area\n",
    "test=area()\n",
    "print(test.getarea())"
   ]
  },
  {
   "cell_type": "markdown",
   "metadata": {},
   "source": [
    " 1.2 Write a function filter_long_words() that takes a list of words and an integer n and returns the list of words\n",
    "    that are longer than n. \n"
   ]
  },
  {
   "cell_type": "code",
   "execution_count": 16,
   "metadata": {},
   "outputs": [
    {
     "name": "stdout",
     "output_type": "stream",
     "text": [
      "['kshitiz', 'upendra']\n"
     ]
    }
   ],
   "source": [
    "def filter_long_words(l_words,n):\n",
    "    if not all(type(ip) == str for ip in l_words):\n",
    "        print(\"Invalid input.All the input in list are not string s\")\n",
    "        return None\n",
    "    result=[lst for lst in l_words if len(lst)>n]\n",
    "    return result\n",
    "lst=[\"rahul\",\"kshitiz\",\"upendra\",\"ram\"]\n",
    "n= 5\n",
    "print(filter_long_words(lst,n))"
   ]
  },
  {
   "cell_type": "markdown",
   "metadata": {},
   "source": [
    " 2.1 Write a Python program using function concept that maps list of words into a list of integers representing the\n",
    "  lengths of the corresponding words. \n",
    " \n",
    " Hint: If a list [ ab,cde,erty] is passed on to the python function output should come as [2,3,4] \n",
    " \n",
    " Here 2,3 and 4 are the lengths of the words in the list. \n",
    "\n"
   ]
  },
  {
   "cell_type": "code",
   "execution_count": 21,
   "metadata": {},
   "outputs": [
    {
     "name": "stdout",
     "output_type": "stream",
     "text": [
      "[5, 6]\n"
     ]
    }
   ],
   "source": [
    "def map_len_of_words(l_words):\n",
    "    if not all(type(ip)==str for ip in l_words):\n",
    "        print(\"Invalid input.All the input in list are not strings\")\n",
    "        return None\n",
    "    return[len(lst)for lst in l_words]\n",
    "lst=[\"bobby\",\"deepak\"]\n",
    "print(map_len_of_words(lst))"
   ]
  },
  {
   "cell_type": "markdown",
   "metadata": {},
   "source": [
    " 2.2 Write a Python function which takes a character (i.e. a string of length 1) and returns True if it is a vowel, False otherwise. \n"
   ]
  },
  {
   "cell_type": "code",
   "execution_count": 22,
   "metadata": {},
   "outputs": [
    {
     "name": "stdout",
     "output_type": "stream",
     "text": [
      "False\n",
      "True\n"
     ]
    }
   ],
   "source": [
    "def is_vowel(ch):\n",
    "    vowel=['a','e','i','o','u']\n",
    "    if type(ch)==str and len(ch)==1 and ch in vowel:\n",
    "        return True\n",
    "    else:\n",
    "        return False\n",
    "print(is_vowel('rahul'))\n",
    "print(is_vowel('a'))"
   ]
  },
  {
   "cell_type": "code",
   "execution_count": null,
   "metadata": {},
   "outputs": [],
   "source": []
  }
 ],
 "metadata": {
  "kernelspec": {
   "display_name": "Python 3",
   "language": "python",
   "name": "python3"
  },
  "language_info": {
   "codemirror_mode": {
    "name": "ipython",
    "version": 3
   },
   "file_extension": ".py",
   "mimetype": "text/x-python",
   "name": "python",
   "nbconvert_exporter": "python",
   "pygments_lexer": "ipython3",
   "version": "3.7.6"
  }
 },
 "nbformat": 4,
 "nbformat_minor": 4
}
