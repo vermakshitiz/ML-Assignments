{
 "cells": [
  {
   "cell_type": "markdown",
   "metadata": {},
   "source": [
    " 1.Write a function to compute 5/0 and use try/except to catch the exceptions. "
   ]
  },
  {
   "cell_type": "code",
   "execution_count": 1,
   "metadata": {},
   "outputs": [
    {
     "name": "stdout",
     "output_type": "stream",
     "text": [
      "you are trying to divide by 0\n"
     ]
    }
   ],
   "source": [
    "def compute(a,b):\n",
    "    try:\n",
    "        result=a/b\n",
    "        print(\"result is %.02f\" %result)\n",
    "        return result\n",
    "    except ZeroDivisionError:\n",
    "        print(\"you are trying to divide by 0\")\n",
    "    except:\n",
    "        print(\"Any other exception occured\")    \n",
    "    return\n",
    "compute(5,0)"
   ]
  },
  {
   "cell_type": "markdown",
   "metadata": {},
   "source": [
    "   2.Implement a Python program to generate all sentences where subject is in [\"Americans\", \"Indians\"] and verb is in [\"Play\", \"watch\"] and the object is in [\"Baseball\",\"cricket\"]. \n",
    "   \n",
    " Hint: Subject,Verb and Object should be declared in the program as shown below.\n",
    " subjects=[\"Americans \",\"Indians\"] \t\n",
    " verbs=[\"play\",\"watch\"] \t \n",
    " objects=[\"Baseball\",\"Cricket\"] \n",
    "  \n",
    "  Output should come as below: \n",
    " \n",
    " Americans play Baseball. \t \n",
    " Americans play Cricket. \t \n",
    " Americans watch Baseball. \t \n",
    " Americans watch Cricket. \t \n",
    " Indians play Baseball. \t \n",
    " Indians play Cricket. \t \n",
    " Indians watch Baseball. \t\n",
    " Indians watch Cricket. \n",
    "\n",
    "\n",
    "   "
   ]
  },
  {
   "cell_type": "code",
   "execution_count": 8,
   "metadata": {},
   "outputs": [
    {
     "name": "stdout",
     "output_type": "stream",
     "text": [
      "Americans play Baseball\n",
      "Americans play Cricket\n",
      "Americans Watch Baseball\n",
      "Americans Watch Cricket\n",
      "Indians play Baseball\n",
      "Indians play Cricket\n",
      "Indians Watch Baseball\n",
      "Indians Watch Cricket\n"
     ]
    }
   ],
   "source": [
    "subjects=[\"Americans\",\"Indians\"]\n",
    "verbs=[\"play\",\"Watch\"]\n",
    "objects=[\"Baseball\",\"Cricket\"]\n",
    "final =[a +' '+ b+' ' + c for a in subjects for b in verbs for c in objects]\n",
    "print(\"\\n\".join(final))"
   ]
  },
  {
   "cell_type": "code",
   "execution_count": null,
   "metadata": {},
   "outputs": [],
   "source": []
  },
  {
   "cell_type": "code",
   "execution_count": null,
   "metadata": {},
   "outputs": [],
   "source": []
  }
 ],
 "metadata": {
  "kernelspec": {
   "display_name": "Python 3",
   "language": "python",
   "name": "python3"
  },
  "language_info": {
   "codemirror_mode": {
    "name": "ipython",
    "version": 3
   },
   "file_extension": ".py",
   "mimetype": "text/x-python",
   "name": "python",
   "nbconvert_exporter": "python",
   "pygments_lexer": "ipython3",
   "version": "3.7.6"
  }
 },
 "nbformat": 4,
 "nbformat_minor": 4
}
