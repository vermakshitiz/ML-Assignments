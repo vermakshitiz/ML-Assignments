{
 "cells": [
  {
   "cell_type": "markdown",
   "metadata": {},
   "source": [
    "# ASSIGNMENT 3"
   ]
  },
  {
   "cell_type": "markdown",
   "metadata": {},
   "source": [
    " \n",
    "  1.1 Write a Python Program to implement your own myreduce() function which works exactly like Python's built-in function        reduce()\n"
   ]
  },
  {
   "cell_type": "code",
   "execution_count": 9,
   "metadata": {},
   "outputs": [
    {
     "name": "stdout",
     "output_type": "stream",
     "text": [
      "myreduce get sum of elements of lists  32\n",
      "myreduce perform  on string  kshitizkumar\n"
     ]
    }
   ],
   "source": [
    "\n",
    "def myreduce(func,lst):\n",
    "    \n",
    "    try:\n",
    "        it = iter(lst)\n",
    "    except TypeError:\n",
    "        print(\"The input {} is not iteratable\".format(lst))\n",
    "        return None\n",
    "    result = next(it)\n",
    "    for val in it:\n",
    "        result = func(result, val)\n",
    "    return result\n",
    "l = [8,5,6,4,9]\n",
    "s = [\"kshitiz\", \"kumar\"]\n",
    "print(\"myreduce get sum of elements of lists \", myreduce(lambda x,y:x+y, l))\n",
    "\n",
    "print(\"myreduce perform  on string \",myreduce(lambda x,y:x+y, s))\n",
    "    "
   ]
  },
  {
   "cell_type": "markdown",
   "metadata": {},
   "source": [
    "  1.2 Write a Python program to implement your own myfilter() function which works exactly like Python's built-in function \n",
    "    filter()"
   ]
  },
  {
   "cell_type": "code",
   "execution_count": 8,
   "metadata": {},
   "outputs": [
    {
     "name": "stdout",
     "output_type": "stream",
     "text": [
      "2\n",
      "4\n",
      "8\n",
      "54\n"
     ]
    }
   ],
   "source": [
    "def my_filter(func,lst):\n",
    "    result = []\n",
    "    for item in lst:\n",
    "        if func(item):\n",
    "            result.append(item)\n",
    "            \n",
    "lst= [2,3,4,5,8,67,54] \n",
    "def even_number(lst):\n",
    "    \n",
    "    if lst % 2 == 0: \n",
    "        print(lst)\n",
    "        \n",
    "my_filter(even_number,lst)\n",
    "          \n",
    "    "
   ]
  },
  {
   "cell_type": "markdown",
   "metadata": {},
   "source": [
    " 2.Implement List comprehensions to produce the following lists.\n",
    "\n",
    " ['x', 'xx', 'xxx', 'xxxx', 'y', 'yy', 'yyy', 'yyyy', 'z', 'zz', 'zzz', 'zzzz']\n",
    " \n",
    " ['x', 'y', 'z', 'xx', 'yy', 'zz', 'xxx', 'yyy', 'zzz', 'xxxx', 'yyyy', 'zzzz']\n",
    " \n",
    " [[2], [3], [4], [3], [4], [5], [4], [5], [6]]\n",
    " \n",
    " [[2, 3, 4, 5], [3, 4, 5, 6],[4, 5, 6, 7], [5, 6, 7, 8]]\n",
    " \n",
    " [(1, 1), (2, 1), (3, 1), (1, 2), (2, 2), (3, 2), (1, 3), (2, 3), (3, 3)]\n"
   ]
  },
  {
   "cell_type": "code",
   "execution_count": 15,
   "metadata": {},
   "outputs": [
    {
     "name": "stdout",
     "output_type": "stream",
     "text": [
      "['x', 'xx', 'xxx', 'xxxx', 'y', 'yy', 'yyy', 'yyyy', 'z', 'zz', 'zzz', 'zzzz']\n",
      "['x', 'y', 'z', 'xx', 'yy', 'zz', 'xxx', 'yyy', 'zzz', 'xxxx', 'yyyy', 'zzzz']\n",
      "[[2], [3], [4], [3], [4], [5], [4], [5], [6]]\n",
      "[[2, 3, 4, 5], [3, 4, 5, 6], [4, 5, 6, 7], [5, 6, 7, 8]]\n",
      "[(1, 1), (2, 1), (3, 1), (1, 2), (2, 2), (3, 2), (1, 3), (2, 3), (3, 3)]\n"
     ]
    }
   ],
   "source": [
    "string='xyz'\n",
    "lst=[j*i for j in string for i in range(1,5)]\n",
    "print(lst)\n",
    "\n",
    "next_lst=[j*i for i in range(1,5) for j in string]\n",
    "print(next_lst)\n",
    "\n",
    "matrix=[[2,3,4],[3,4,5],[4,5,6]]\n",
    "l_matrix=[[val]for sublist in matrix for val in sublist]\n",
    "print(l_matrix)\n",
    "\n",
    "f_list=[[i,i+1,i+2,i+3]for i in range(2,6)]\n",
    "print(f_list)\n",
    "\n",
    "tup_list=[(j,i)for i in range(1,4)for j in range(1,4)]\n",
    "print(tup_list)\n",
    "\n"
   ]
  },
  {
   "cell_type": "code",
   "execution_count": null,
   "metadata": {},
   "outputs": [],
   "source": []
  }
 ],
 "metadata": {
  "kernelspec": {
   "display_name": "Python 3",
   "language": "python",
   "name": "python3"
  },
  "language_info": {
   "codemirror_mode": {
    "name": "ipython",
    "version": 3
   },
   "file_extension": ".py",
   "mimetype": "text/x-python",
   "name": "python",
   "nbconvert_exporter": "python",
   "pygments_lexer": "ipython3",
   "version": "3.7.6"
  }
 },
 "nbformat": 4,
 "nbformat_minor": 4
}
